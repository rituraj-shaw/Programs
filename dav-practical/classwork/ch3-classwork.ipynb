{
 "cells": [
  {
   "attachments": {},
   "cell_type": "markdown",
   "metadata": {},
   "source": [
    "Enumerate"
   ]
  },
  {
   "cell_type": "code",
   "execution_count": 30,
   "metadata": {},
   "outputs": [
    {
     "name": "stdout",
     "output_type": "stream",
     "text": [
      "{'foo': 0, 'bar': 1, 'beer': 2}\n"
     ]
    }
   ],
   "source": [
    "some_list = ['foo', 'bar', 'beer']\n",
    "mapping = {}\n",
    "for i, v in enumerate(some_list):\n",
    "    mapping[v] = i\n",
    "\n",
    "print(mapping)"
   ]
  },
  {
   "attachments": {},
   "cell_type": "markdown",
   "metadata": {},
   "source": [
    "Zip Function"
   ]
  },
  {
   "cell_type": "code",
   "execution_count": 1,
   "metadata": {},
   "outputs": [
    {
     "data": {
      "text/plain": [
       "[('abc', 'abc1'), ('def', 'def1'), ('ghi', 'ghi1')]"
      ]
     },
     "execution_count": 1,
     "metadata": {},
     "output_type": "execute_result"
    }
   ],
   "source": [
    "seq1 = ['abc', 'def', 'ghi']\n",
    "seq2 = ['abc1','def1','ghi1']\n",
    "zipped = zip(seq1,seq2)\n",
    "list(zipped)"
   ]
  },
  {
   "cell_type": "code",
   "execution_count": 5,
   "metadata": {},
   "outputs": [
    {
     "data": {
      "text/plain": [
       "[('abc', 'abc1', True), ('def', 'def1', False)]"
      ]
     },
     "execution_count": 5,
     "metadata": {},
     "output_type": "execute_result"
    }
   ],
   "source": [
    "seq3 = [True, False]\n",
    "zipped = zip(seq1, seq2, seq3)\n",
    "list(zipped)"
   ]
  },
  {
   "attachments": {},
   "cell_type": "markdown",
   "metadata": {},
   "source": [
    "Un-zip the sequence"
   ]
  },
  {
   "cell_type": "code",
   "execution_count": 6,
   "metadata": {},
   "outputs": [
    {
     "name": "stdout",
     "output_type": "stream",
     "text": [
      "firstname:  ('No', 'Ro', 'Sc') \n",
      "lastname:  ('Ry', 'Cl', 'Cu')\n"
     ]
    }
   ],
   "source": [
    "pitchers = [('No','Ry'),('Ro','Cl'),('Sc','Cu')]\n",
    "firstname, lastname = zip(*pitchers)\n",
    "print('firstname: ', firstname, '\\nlastname: ', lastname)"
   ]
  },
  {
   "attachments": {},
   "cell_type": "markdown",
   "metadata": {},
   "source": [
    "Dictionary"
   ]
  },
  {
   "cell_type": "code",
   "execution_count": 10,
   "metadata": {},
   "outputs": [
    {
     "name": "stdout",
     "output_type": "stream",
     "text": [
      "{'a': 'some value', 'b': '[1,2,3,4]', 7: 'an integer', 5: 'some value'}\n",
      "{'a': 'some value', 'b': '[1,2,3,4]', 7: 'an integer'}\n",
      "an integer\n"
     ]
    }
   ],
   "source": [
    "d1 = {'a': 'some value', 'b': '[1,2,3,4]', 7: 'an integer', 5: 'some value'}\n",
    "print(d1)\n",
    "del d1[5]\n",
    "print(d1)\n",
    "result = d1.pop(7)\n",
    "print(result)"
   ]
  },
  {
   "attachments": {},
   "cell_type": "markdown",
   "metadata": {},
   "source": [
    "Update"
   ]
  },
  {
   "cell_type": "code",
   "execution_count": 11,
   "metadata": {},
   "outputs": [
    {
     "name": "stdout",
     "output_type": "stream",
     "text": [
      "{'a': 'some value', 'b': 'hello', 'c': 123}\n"
     ]
    }
   ],
   "source": [
    "d1.update({'b': 'hello', 'c': 123})\n",
    "print(d1)"
   ]
  },
  {
   "cell_type": "code",
   "execution_count": 12,
   "metadata": {},
   "outputs": [
    {
     "name": "stdout",
     "output_type": "stream",
     "text": [
      "{0: 4, 1: 3, 2: 2, 3: 1, 4: 0}\n"
     ]
    }
   ],
   "source": [
    "mapping = dict(zip(range(5), reversed(range(5))))\n",
    "print(mapping)"
   ]
  },
  {
   "attachments": {},
   "cell_type": "markdown",
   "metadata": {},
   "source": [
    "To categorize a list of words by there first letters as a dictionary of lists."
   ]
  },
  {
   "cell_type": "code",
   "execution_count": 10,
   "metadata": {},
   "outputs": [
    {
     "name": "stdout",
     "output_type": "stream",
     "text": [
      "{'a': ['app', 'apple'], 'i': ['is'], 'n': ['name']}\n"
     ]
    }
   ],
   "source": [
    "words = ['app','is','name','apple']\n",
    "by_letter = {}\n",
    "for word in words:\n",
    "    letter =  word[0]\n",
    "    by_letter.setdefault(letter,[])\n",
    "    if letter not in by_letter:\n",
    "        by_letter[letter] = word\n",
    "    else:\n",
    "        by_letter[letter].append(word)\n",
    "\n",
    "print(by_letter)"
   ]
  },
  {
   "cell_type": "code",
   "execution_count": 12,
   "metadata": {},
   "outputs": [
    {
     "name": "stdout",
     "output_type": "stream",
     "text": [
      "{'a': ['app', 'apple'], 'i': ['is'], 'n': ['name']}\n"
     ]
    }
   ],
   "source": [
    "words = ['app','is','name','apple']\n",
    "by_letter = {}\n",
    "for word in words:\n",
    "    letter =  word[0]\n",
    "    by_letter.setdefault(letter,[]).append(word)\n",
    "\n",
    "print(by_letter)"
   ]
  },
  {
   "attachments": {},
   "cell_type": "markdown",
   "metadata": {},
   "source": [
    "Default Dictionary"
   ]
  },
  {
   "cell_type": "code",
   "execution_count": 14,
   "metadata": {},
   "outputs": [
    {
     "name": "stdout",
     "output_type": "stream",
     "text": [
      "defaultdict(<class 'list'>, {'a': ['app', 'apple'], 'i': ['is'], 'n': ['name']})\n"
     ]
    }
   ],
   "source": [
    "from collections import defaultdict\n",
    "by_letter = defaultdict(list)\n",
    "for word in words:\n",
    "    by_letter[word[0]].append(word)\n",
    "\n",
    "print(by_letter)"
   ]
  },
  {
   "attachments": {},
   "cell_type": "markdown",
   "metadata": {},
   "source": [
    "SETS"
   ]
  },
  {
   "cell_type": "code",
   "execution_count": 23,
   "metadata": {},
   "outputs": [
    {
     "name": "stdout",
     "output_type": "stream",
     "text": [
      "Set A:  {1, 2, 3, 4, 5, 6, 7, 8} \n",
      "Set B:  {0, 1, 2, 3, 4, 5, 7, 9}\n",
      "Union of two sets:  {0, 1, 2, 3, 4, 5, 6, 7, 8, 9}\n",
      "Intersection of two sets:  {1, 2, 3, 4, 5, 7}\n"
     ]
    }
   ],
   "source": [
    "A = set([1,2,3,4,5,3,6,4,7,8])\n",
    "B = {1,5,9,4,3,2,5,1,7,0}\n",
    "print(\"Set A: \",A,\"\\nSet B: \",B)\n",
    "print(\"Union of two sets: \",A|B)\n",
    "print(\"Intersection of two sets: \",A&B)"
   ]
  },
  {
   "attachments": {},
   "cell_type": "markdown",
   "metadata": {},
   "source": [
    "Bisect"
   ]
  },
  {
   "cell_type": "code",
   "execution_count": 24,
   "metadata": {},
   "outputs": [
    {
     "data": {
      "text/plain": [
       "7"
      ]
     },
     "execution_count": 24,
     "metadata": {},
     "output_type": "execute_result"
    }
   ],
   "source": [
    "import bisect\n",
    "C = [1,2,2,2,2,3,4,9]\n",
    "bisect.bisect(C,6)"
   ]
  },
  {
   "cell_type": "code",
   "execution_count": 25,
   "metadata": {},
   "outputs": [
    {
     "name": "stdout",
     "output_type": "stream",
     "text": [
      "[1, 2, 2, 2, 2, 3, 4, 6, 9]\n"
     ]
    }
   ],
   "source": [
    "bisect.insort(C,6)\n",
    "print(C)"
   ]
  },
  {
   "attachments": {},
   "cell_type": "markdown",
   "metadata": {},
   "source": [
    "Slicing"
   ]
  },
  {
   "cell_type": "code",
   "execution_count": 33,
   "metadata": {},
   "outputs": [
    {
     "name": "stdout",
     "output_type": "stream",
     "text": [
      "[2, 3, 4, 5]\n",
      "False\n",
      "[1, 2, 3, 4, 5]\n",
      "[4, 5, 6, 7, 8, 9]\n",
      "[6, 7, 8, 9]\n",
      "[4, 5, 6, 7]\n",
      "[1, 3, 5, 7, 9]\n",
      "[9, 8, 7, 6, 5, 4, 3, 2, 1]\n"
     ]
    }
   ],
   "source": [
    "seq = [1,2,3,4,5,6,7,8,9]\n",
    "print(seq[1:5])\n",
    "print(seq[3:4] == [6,3])\n",
    "print(seq[:5])\n",
    "print(seq[3:])\n",
    "print(seq[-4:])\n",
    "print(seq[-6:-2])\n",
    "print(seq[::2])\n",
    "print(seq[::-1])"
   ]
  },
  {
   "attachments": {},
   "cell_type": "markdown",
   "metadata": {},
   "source": [
    "Sorting"
   ]
  },
  {
   "cell_type": "code",
   "execution_count": 34,
   "metadata": {},
   "outputs": [
    {
     "data": {
      "text/plain": [
       "[' ', 'a', 'c', 'e', 'e', 'h', 'o', 'r', 'r', 's']"
      ]
     },
     "execution_count": 34,
     "metadata": {},
     "output_type": "execute_result"
    }
   ],
   "source": [
    "sorted('horse race')"
   ]
  },
  {
   "cell_type": "code",
   "execution_count": 35,
   "metadata": {},
   "outputs": [
    {
     "data": {
      "text/plain": [
       "[9, 8, 7, 6, 5, 4, 3, 2, 1, 0]"
      ]
     },
     "execution_count": 35,
     "metadata": {},
     "output_type": "execute_result"
    }
   ],
   "source": [
    "list(reversed(range(10)))"
   ]
  }
 ],
 "metadata": {
  "kernelspec": {
   "display_name": "Python 3",
   "language": "python",
   "name": "python3"
  },
  "language_info": {
   "codemirror_mode": {
    "name": "ipython",
    "version": 3
   },
   "file_extension": ".py",
   "mimetype": "text/x-python",
   "name": "python",
   "nbconvert_exporter": "python",
   "pygments_lexer": "ipython3",
   "version": "3.11.1"
  },
  "orig_nbformat": 4
 },
 "nbformat": 4,
 "nbformat_minor": 2
}
