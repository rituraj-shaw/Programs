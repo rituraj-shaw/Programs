{
 "cells": [
  {
   "cell_type": "markdown",
   "metadata": {},
   "source": [
    "a) Data transformation,"
   ]
  },
  {
   "cell_type": "code",
   "execution_count": 2,
   "metadata": {},
   "outputs": [
    {
     "data": {
      "text/html": [
       "<div>\n",
       "<style scoped>\n",
       "    .dataframe tbody tr th:only-of-type {\n",
       "        vertical-align: middle;\n",
       "    }\n",
       "\n",
       "    .dataframe tbody tr th {\n",
       "        vertical-align: top;\n",
       "    }\n",
       "\n",
       "    .dataframe thead th {\n",
       "        text-align: right;\n",
       "    }\n",
       "</style>\n",
       "<table border=\"1\" class=\"dataframe\">\n",
       "  <thead>\n",
       "    <tr style=\"text-align: right;\">\n",
       "      <th></th>\n",
       "      <th>Unnamed: 0</th>\n",
       "      <th>Name</th>\n",
       "      <th>Birth_Month</th>\n",
       "      <th>Gender</th>\n",
       "      <th>Pass_Division</th>\n",
       "    </tr>\n",
       "  </thead>\n",
       "  <tbody>\n",
       "    <tr>\n",
       "      <th>0</th>\n",
       "      <td>0</td>\n",
       "      <td>Mudit Chauhan</td>\n",
       "      <td>December</td>\n",
       "      <td>M</td>\n",
       "      <td>III</td>\n",
       "    </tr>\n",
       "    <tr>\n",
       "      <th>1</th>\n",
       "      <td>1</td>\n",
       "      <td>Seema Chopra</td>\n",
       "      <td>January</td>\n",
       "      <td>F</td>\n",
       "      <td>II</td>\n",
       "    </tr>\n",
       "    <tr>\n",
       "      <th>2</th>\n",
       "      <td>2</td>\n",
       "      <td>Rani Gupta</td>\n",
       "      <td>March</td>\n",
       "      <td>F</td>\n",
       "      <td>I</td>\n",
       "    </tr>\n",
       "    <tr>\n",
       "      <th>3</th>\n",
       "      <td>3</td>\n",
       "      <td>Aditya Narayan</td>\n",
       "      <td>October</td>\n",
       "      <td>M</td>\n",
       "      <td>I</td>\n",
       "    </tr>\n",
       "    <tr>\n",
       "      <th>4</th>\n",
       "      <td>4</td>\n",
       "      <td>Sanjeev Sahni</td>\n",
       "      <td>February</td>\n",
       "      <td>M</td>\n",
       "      <td>II</td>\n",
       "    </tr>\n",
       "    <tr>\n",
       "      <th>5</th>\n",
       "      <td>5</td>\n",
       "      <td>Prakash Kumar</td>\n",
       "      <td>December</td>\n",
       "      <td>M</td>\n",
       "      <td>III</td>\n",
       "    </tr>\n",
       "    <tr>\n",
       "      <th>6</th>\n",
       "      <td>6</td>\n",
       "      <td>Ritu Agarwal</td>\n",
       "      <td>September</td>\n",
       "      <td>F</td>\n",
       "      <td>I</td>\n",
       "    </tr>\n",
       "    <tr>\n",
       "      <th>7</th>\n",
       "      <td>7</td>\n",
       "      <td>Akshay Goel</td>\n",
       "      <td>August</td>\n",
       "      <td>M</td>\n",
       "      <td>I</td>\n",
       "    </tr>\n",
       "    <tr>\n",
       "      <th>8</th>\n",
       "      <td>8</td>\n",
       "      <td>Meeta Kulkarni</td>\n",
       "      <td>July</td>\n",
       "      <td>F</td>\n",
       "      <td>II</td>\n",
       "    </tr>\n",
       "    <tr>\n",
       "      <th>9</th>\n",
       "      <td>9</td>\n",
       "      <td>Preeti Ahuja</td>\n",
       "      <td>November</td>\n",
       "      <td>F</td>\n",
       "      <td>II</td>\n",
       "    </tr>\n",
       "    <tr>\n",
       "      <th>10</th>\n",
       "      <td>10</td>\n",
       "      <td>Sunil Das Gupta</td>\n",
       "      <td>April</td>\n",
       "      <td>M</td>\n",
       "      <td>III</td>\n",
       "    </tr>\n",
       "    <tr>\n",
       "      <th>11</th>\n",
       "      <td>11</td>\n",
       "      <td>Sonali Sapre</td>\n",
       "      <td>January</td>\n",
       "      <td>F</td>\n",
       "      <td>I</td>\n",
       "    </tr>\n",
       "    <tr>\n",
       "      <th>12</th>\n",
       "      <td>12</td>\n",
       "      <td>Rashmi Talwar</td>\n",
       "      <td>June</td>\n",
       "      <td>F</td>\n",
       "      <td>III</td>\n",
       "    </tr>\n",
       "  </tbody>\n",
       "</table>\n",
       "</div>"
      ],
      "text/plain": [
       "   Unnamed: 0               Name Birth_Month Gender Pass_Division\n",
       "0         0      Mudit Chauhan      December    M             III\n",
       "1         1       Seema Chopra       January    F              II\n",
       "2         2         Rani Gupta         March    F               I\n",
       "3         3     Aditya Narayan       October    M               I\n",
       "4         4      Sanjeev Sahni      February    M              II\n",
       "5         5       Prakash Kumar     December    M             III\n",
       "6         6       Ritu Agarwal     September    F               I\n",
       "7         7        Akshay Goel        August    M               I\n",
       "8         8     Meeta Kulkarni          July    F              II\n",
       "9         9       Preeti Ahuja      November    F              II\n",
       "10       10    Sunil Das Gupta         April    M             III\n",
       "11       11       Sonali Sapre       January    F               I\n",
       "12       12      Rashmi Talwar          June    F             III"
      ]
     },
     "execution_count": 2,
     "metadata": {},
     "output_type": "execute_result"
    }
   ],
   "source": [
    "import pandas as pd\n",
    "df1 = pd.read_excel(\"Extra.xlsx\")\n",
    "df1"
   ]
  },
  {
   "cell_type": "code",
   "execution_count": 3,
   "metadata": {},
   "outputs": [
    {
     "name": "stdout",
     "output_type": "stream",
     "text": [
      "   Unnamed: 0               Name Birth_Month Gender  Pass_Division\n",
      "0         0      Mudit Chauhan      December    M                3\n",
      "1         1       Seema Chopra       January    F                2\n",
      "2         2         Rani Gupta         March    F                1\n",
      "3         3     Aditya Narayan       October    M                1\n",
      "4         4      Sanjeev Sahni      February    M                2\n",
      "5         5       Prakash Kumar     December    M                3\n",
      "6         6       Ritu Agarwal     September    F                1\n",
      "7         7        Akshay Goel        August    M                1\n",
      "8         8     Meeta Kulkarni          July    F                2\n",
      "9         9       Preeti Ahuja      November    F                2\n",
      "10       10    Sunil Das Gupta         April    M                3\n",
      "11       11       Sonali Sapre       January    F                1\n",
      "12       12      Rashmi Talwar          June    F                3\n"
     ]
    }
   ],
   "source": [
    "division_mapping = {\n",
    "    'I': 1,\n",
    "    'II': 2,\n",
    "    'III': 3,\n",
    "}\n",
    "df1['Pass_Division'] = df1['Pass_Division'].map(division_mapping)\n",
    "print(df1)"
   ]
  },
  {
   "cell_type": "markdown",
   "metadata": {},
   "source": [
    "a) Aggregate"
   ]
  },
  {
   "cell_type": "code",
   "execution_count": 4,
   "metadata": {},
   "outputs": [
    {
     "name": "stdout",
     "output_type": "stream",
     "text": [
      "1.9230769230769231\n"
     ]
    }
   ],
   "source": [
    "print(df1[\"Pass_Division\"].mean())"
   ]
  },
  {
   "cell_type": "code",
   "execution_count": 5,
   "metadata": {},
   "outputs": [
    {
     "name": "stdout",
     "output_type": "stream",
     "text": [
      "2.0\n"
     ]
    }
   ],
   "source": [
    "print(df1[\"Pass_Division\"].median())"
   ]
  },
  {
   "cell_type": "code",
   "execution_count": 6,
   "metadata": {},
   "outputs": [
    {
     "name": "stdout",
     "output_type": "stream",
     "text": [
      "0    1\n",
      "Name: Pass_Division, dtype: int64\n"
     ]
    }
   ],
   "source": [
    "print(df1[\"Pass_Division\"].mode())"
   ]
  },
  {
   "cell_type": "markdown",
   "metadata": {
    "tags": []
   },
   "source": [
    "a) Indexing"
   ]
  },
  {
   "cell_type": "code",
   "execution_count": 7,
   "metadata": {},
   "outputs": [
    {
     "data": {
      "text/html": [
       "<div>\n",
       "<style scoped>\n",
       "    .dataframe tbody tr th:only-of-type {\n",
       "        vertical-align: middle;\n",
       "    }\n",
       "\n",
       "    .dataframe tbody tr th {\n",
       "        vertical-align: top;\n",
       "    }\n",
       "\n",
       "    .dataframe thead th {\n",
       "        text-align: right;\n",
       "    }\n",
       "</style>\n",
       "<table border=\"1\" class=\"dataframe\">\n",
       "  <thead>\n",
       "    <tr style=\"text-align: right;\">\n",
       "      <th></th>\n",
       "      <th>Unnamed: 0</th>\n",
       "      <th>Name</th>\n",
       "      <th>Birth_Month</th>\n",
       "      <th>Gender</th>\n",
       "      <th>Pass_Division</th>\n",
       "    </tr>\n",
       "  </thead>\n",
       "  <tbody>\n",
       "    <tr>\n",
       "      <th>Row_1</th>\n",
       "      <td>0</td>\n",
       "      <td>Mudit Chauhan</td>\n",
       "      <td>December</td>\n",
       "      <td>M</td>\n",
       "      <td>3</td>\n",
       "    </tr>\n",
       "    <tr>\n",
       "      <th>Row_2</th>\n",
       "      <td>1</td>\n",
       "      <td>Seema Chopra</td>\n",
       "      <td>January</td>\n",
       "      <td>F</td>\n",
       "      <td>2</td>\n",
       "    </tr>\n",
       "    <tr>\n",
       "      <th>Row_3</th>\n",
       "      <td>2</td>\n",
       "      <td>Rani Gupta</td>\n",
       "      <td>March</td>\n",
       "      <td>F</td>\n",
       "      <td>1</td>\n",
       "    </tr>\n",
       "    <tr>\n",
       "      <th>Row_4</th>\n",
       "      <td>3</td>\n",
       "      <td>Aditya Narayan</td>\n",
       "      <td>October</td>\n",
       "      <td>M</td>\n",
       "      <td>1</td>\n",
       "    </tr>\n",
       "    <tr>\n",
       "      <th>Row_5</th>\n",
       "      <td>4</td>\n",
       "      <td>Sanjeev Sahni</td>\n",
       "      <td>February</td>\n",
       "      <td>M</td>\n",
       "      <td>2</td>\n",
       "    </tr>\n",
       "    <tr>\n",
       "      <th>Row_6</th>\n",
       "      <td>5</td>\n",
       "      <td>Prakash Kumar</td>\n",
       "      <td>December</td>\n",
       "      <td>M</td>\n",
       "      <td>3</td>\n",
       "    </tr>\n",
       "    <tr>\n",
       "      <th>Row_7</th>\n",
       "      <td>6</td>\n",
       "      <td>Ritu Agarwal</td>\n",
       "      <td>September</td>\n",
       "      <td>F</td>\n",
       "      <td>1</td>\n",
       "    </tr>\n",
       "    <tr>\n",
       "      <th>Row_8</th>\n",
       "      <td>7</td>\n",
       "      <td>Akshay Goel</td>\n",
       "      <td>August</td>\n",
       "      <td>M</td>\n",
       "      <td>1</td>\n",
       "    </tr>\n",
       "    <tr>\n",
       "      <th>Row_9</th>\n",
       "      <td>8</td>\n",
       "      <td>Meeta Kulkarni</td>\n",
       "      <td>July</td>\n",
       "      <td>F</td>\n",
       "      <td>2</td>\n",
       "    </tr>\n",
       "    <tr>\n",
       "      <th>Row_10</th>\n",
       "      <td>9</td>\n",
       "      <td>Preeti Ahuja</td>\n",
       "      <td>November</td>\n",
       "      <td>F</td>\n",
       "      <td>2</td>\n",
       "    </tr>\n",
       "    <tr>\n",
       "      <th>Row_11</th>\n",
       "      <td>10</td>\n",
       "      <td>Sunil Das Gupta</td>\n",
       "      <td>April</td>\n",
       "      <td>M</td>\n",
       "      <td>3</td>\n",
       "    </tr>\n",
       "    <tr>\n",
       "      <th>Row_12</th>\n",
       "      <td>11</td>\n",
       "      <td>Sonali Sapre</td>\n",
       "      <td>January</td>\n",
       "      <td>F</td>\n",
       "      <td>1</td>\n",
       "    </tr>\n",
       "    <tr>\n",
       "      <th>Row_13</th>\n",
       "      <td>12</td>\n",
       "      <td>Rashmi Talwar</td>\n",
       "      <td>June</td>\n",
       "      <td>F</td>\n",
       "      <td>3</td>\n",
       "    </tr>\n",
       "  </tbody>\n",
       "</table>\n",
       "</div>"
      ],
      "text/plain": [
       "       Unnamed: 0               Name Birth_Month Gender  Pass_Division\n",
       "Row_1         0      Mudit Chauhan      December    M                3\n",
       "Row_2         1       Seema Chopra       January    F                2\n",
       "Row_3         2         Rani Gupta         March    F                1\n",
       "Row_4         3     Aditya Narayan       October    M                1\n",
       "Row_5         4      Sanjeev Sahni      February    M                2\n",
       "Row_6         5       Prakash Kumar     December    M                3\n",
       "Row_7         6       Ritu Agarwal     September    F                1\n",
       "Row_8         7        Akshay Goel        August    M                1\n",
       "Row_9         8     Meeta Kulkarni          July    F                2\n",
       "Row_10        9       Preeti Ahuja      November    F                2\n",
       "Row_11       10    Sunil Das Gupta         April    M                3\n",
       "Row_12       11       Sonali Sapre       January    F                1\n",
       "Row_13       12      Rashmi Talwar          June    F                3"
      ]
     },
     "execution_count": 7,
     "metadata": {},
     "output_type": "execute_result"
    }
   ],
   "source": [
    "df1.index = ['Row_1', 'Row_2', 'Row_3', 'Row_4', 'Row_5', 'Row_6', 'Row_7', 'Row_8', 'Row_9', 'Row_10', 'Row_11', 'Row_12', 'Row_13']\n",
    "df1"
   ]
  },
  {
   "cell_type": "code",
   "execution_count": 8,
   "metadata": {},
   "outputs": [
    {
     "name": "stdout",
     "output_type": "stream",
     "text": [
      "Index(['Row_1', 'Row_2', 'Row_3', 'Row_4', 'Row_5', 'Row_6', 'Row_7', 'Row_8',\n",
      "       'Row_9', 'Row_10', 'Row_11', 'Row_12', 'Row_13'],\n",
      "      dtype='object')\n"
     ]
    }
   ],
   "source": [
    "index1 = df1.index\n",
    "print(index1)"
   ]
  },
  {
   "cell_type": "code",
   "execution_count": 9,
   "metadata": {},
   "outputs": [
    {
     "name": "stdout",
     "output_type": "stream",
     "text": [
      "       Unnamed: 0               Name Birth_Month Gender  Pass_Division\n",
      "Row_1         0      Mudit Chauhan      December    M              3.0\n",
      "Row_2         1       Seema Chopra       January    F              2.0\n",
      "Row_3         2         Rani Gupta         March    F              1.0\n",
      "Row_4         3     Aditya Narayan       October    M              1.0\n",
      "Row_5         4      Sanjeev Sahni      February    M              2.0\n",
      "Row_6         5       Prakash Kumar     December    M              3.0\n",
      "Row_7         6       Ritu Agarwal     September    F              1.0\n",
      "Row_8         7        Akshay Goel        August    M              1.0\n",
      "Row_9         8     Meeta Kulkarni          July    F              2.0\n",
      "Row_10        9       Preeti Ahuja      November    F              2.0\n",
      "Row_11       10    Sunil Das Gupta         April    M              3.0\n",
      "Row_12       11       Sonali Sapre       January    F              1.0\n",
      "Row_13       12      Rashmi Talwar          June    F              3.0\n",
      "Row_14        NaN                NaN         NaN    NaN            NaN\n"
     ]
    }
   ],
   "source": [
    "index2 = df1.reindex(['Row_1', 'Row_2', 'Row_3', 'Row_4', 'Row_5', 'Row_6', 'Row_7', 'Row_8', 'Row_9', 'Row_10', 'Row_11', 'Row_12', 'Row_13', 'Row_14'])\n",
    "print(index2)"
   ]
  },
  {
   "cell_type": "markdown",
   "metadata": {},
   "source": [
    "a) Slicing"
   ]
  },
  {
   "cell_type": "code",
   "execution_count": 10,
   "metadata": {},
   "outputs": [
    {
     "name": "stdout",
     "output_type": "stream",
     "text": [
      "      Unnamed: 0              Name Birth_Month Gender  Pass_Division\n",
      "Row_1        0     Mudit Chauhan      December    M                3\n",
      "Row_2        1      Seema Chopra       January    F                2\n",
      "Row_3        2        Rani Gupta         March    F                1\n",
      "Row_4        3    Aditya Narayan       October    M                1\n",
      "Row_5        4     Sanjeev Sahni      February    M                2\n"
     ]
    }
   ],
   "source": [
    "print(df1[:5])"
   ]
  },
  {
   "cell_type": "code",
   "execution_count": 11,
   "metadata": {},
   "outputs": [
    {
     "name": "stdout",
     "output_type": "stream",
     "text": [
      "       Unnamed: 0               Name Birth_Month Gender  Pass_Division\n",
      "Row_1         0      Mudit Chauhan      December    M                3\n",
      "Row_2         1       Seema Chopra       January    F                2\n",
      "Row_3         2         Rani Gupta         March    F                1\n",
      "Row_4         3     Aditya Narayan       October    M                1\n",
      "Row_5         4      Sanjeev Sahni      February    M                2\n",
      "Row_6         5       Prakash Kumar     December    M                3\n",
      "Row_7         6       Ritu Agarwal     September    F                1\n",
      "Row_8         7        Akshay Goel        August    M                1\n",
      "Row_9         8     Meeta Kulkarni          July    F                2\n",
      "Row_10        9       Preeti Ahuja      November    F                2\n",
      "Row_11       10    Sunil Das Gupta         April    M                3\n",
      "Row_12       11       Sonali Sapre       January    F                1\n",
      "Row_13       12      Rashmi Talwar          June    F                3\n"
     ]
    }
   ],
   "source": [
    "print(df1[:])"
   ]
  },
  {
   "cell_type": "code",
   "execution_count": 12,
   "metadata": {},
   "outputs": [
    {
     "name": "stdout",
     "output_type": "stream",
     "text": [
      "       Unnamed: 0            Name Birth_Month Gender  Pass_Division\n",
      "Row_2         1    Seema Chopra       January    F                2\n",
      "Row_6         5    Prakash Kumar     December    M                3\n",
      "Row_10        9    Preeti Ahuja      November    F                2\n"
     ]
    }
   ],
   "source": [
    "print(df1[1::4])"
   ]
  },
  {
   "cell_type": "code",
   "execution_count": 13,
   "metadata": {},
   "outputs": [
    {
     "name": "stdout",
     "output_type": "stream",
     "text": [
      "       Unnamed: 0              Name Birth_Month Gender  Pass_Division\n",
      "Row_5         4     Sanjeev Sahni      February    M                2\n",
      "Row_6         5      Prakash Kumar     December    M                3\n",
      "Row_7         6      Ritu Agarwal     September    F                1\n",
      "Row_8         7       Akshay Goel        August    M                1\n",
      "Row_9         8    Meeta Kulkarni          July    F                2\n",
      "Row_10        9      Preeti Ahuja      November    F                2\n"
     ]
    }
   ],
   "source": [
    "print(df1['Row_5':'Row_10'])"
   ]
  },
  {
   "cell_type": "markdown",
   "metadata": {},
   "source": [
    "b) Prepare data for visualization"
   ]
  },
  {
   "cell_type": "code",
   "execution_count": 14,
   "metadata": {},
   "outputs": [
    {
     "name": "stdout",
     "output_type": "stream",
     "text": [
      "Data for visualization:\n"
     ]
    },
    {
     "data": {
      "text/html": [
       "<div>\n",
       "<style scoped>\n",
       "    .dataframe tbody tr th:only-of-type {\n",
       "        vertical-align: middle;\n",
       "    }\n",
       "\n",
       "    .dataframe tbody tr th {\n",
       "        vertical-align: top;\n",
       "    }\n",
       "\n",
       "    .dataframe thead th {\n",
       "        text-align: right;\n",
       "    }\n",
       "</style>\n",
       "<table border=\"1\" class=\"dataframe\">\n",
       "  <thead>\n",
       "    <tr style=\"text-align: right;\">\n",
       "      <th></th>\n",
       "      <th>Unnamed: 0</th>\n",
       "      <th>Name</th>\n",
       "      <th>Birth_Month</th>\n",
       "      <th>Gender</th>\n",
       "      <th>Pass_Division</th>\n",
       "    </tr>\n",
       "  </thead>\n",
       "  <tbody>\n",
       "    <tr>\n",
       "      <th>Row_1</th>\n",
       "      <td>0</td>\n",
       "      <td>Mudit Chauhan</td>\n",
       "      <td>December</td>\n",
       "      <td>M</td>\n",
       "      <td>3</td>\n",
       "    </tr>\n",
       "    <tr>\n",
       "      <th>Row_2</th>\n",
       "      <td>1</td>\n",
       "      <td>Seema Chopra</td>\n",
       "      <td>January</td>\n",
       "      <td>F</td>\n",
       "      <td>2</td>\n",
       "    </tr>\n",
       "    <tr>\n",
       "      <th>Row_3</th>\n",
       "      <td>2</td>\n",
       "      <td>Rani Gupta</td>\n",
       "      <td>March</td>\n",
       "      <td>F</td>\n",
       "      <td>1</td>\n",
       "    </tr>\n",
       "    <tr>\n",
       "      <th>Row_4</th>\n",
       "      <td>3</td>\n",
       "      <td>Aditya Narayan</td>\n",
       "      <td>October</td>\n",
       "      <td>M</td>\n",
       "      <td>1</td>\n",
       "    </tr>\n",
       "    <tr>\n",
       "      <th>Row_5</th>\n",
       "      <td>4</td>\n",
       "      <td>Sanjeev Sahni</td>\n",
       "      <td>February</td>\n",
       "      <td>M</td>\n",
       "      <td>2</td>\n",
       "    </tr>\n",
       "    <tr>\n",
       "      <th>Row_6</th>\n",
       "      <td>5</td>\n",
       "      <td>Prakash Kumar</td>\n",
       "      <td>December</td>\n",
       "      <td>M</td>\n",
       "      <td>3</td>\n",
       "    </tr>\n",
       "    <tr>\n",
       "      <th>Row_7</th>\n",
       "      <td>6</td>\n",
       "      <td>Ritu Agarwal</td>\n",
       "      <td>September</td>\n",
       "      <td>F</td>\n",
       "      <td>1</td>\n",
       "    </tr>\n",
       "    <tr>\n",
       "      <th>Row_8</th>\n",
       "      <td>7</td>\n",
       "      <td>Akshay Goel</td>\n",
       "      <td>August</td>\n",
       "      <td>M</td>\n",
       "      <td>1</td>\n",
       "    </tr>\n",
       "    <tr>\n",
       "      <th>Row_9</th>\n",
       "      <td>8</td>\n",
       "      <td>Meeta Kulkarni</td>\n",
       "      <td>July</td>\n",
       "      <td>F</td>\n",
       "      <td>2</td>\n",
       "    </tr>\n",
       "    <tr>\n",
       "      <th>Row_10</th>\n",
       "      <td>9</td>\n",
       "      <td>Preeti Ahuja</td>\n",
       "      <td>November</td>\n",
       "      <td>F</td>\n",
       "      <td>2</td>\n",
       "    </tr>\n",
       "    <tr>\n",
       "      <th>Row_11</th>\n",
       "      <td>10</td>\n",
       "      <td>Sunil Das Gupta</td>\n",
       "      <td>April</td>\n",
       "      <td>M</td>\n",
       "      <td>3</td>\n",
       "    </tr>\n",
       "    <tr>\n",
       "      <th>Row_12</th>\n",
       "      <td>11</td>\n",
       "      <td>Sonali Sapre</td>\n",
       "      <td>January</td>\n",
       "      <td>F</td>\n",
       "      <td>1</td>\n",
       "    </tr>\n",
       "    <tr>\n",
       "      <th>Row_13</th>\n",
       "      <td>12</td>\n",
       "      <td>Rashmi Talwar</td>\n",
       "      <td>June</td>\n",
       "      <td>F</td>\n",
       "      <td>3</td>\n",
       "    </tr>\n",
       "  </tbody>\n",
       "</table>\n",
       "</div>"
      ],
      "text/plain": [
       "       Unnamed: 0               Name Birth_Month Gender  Pass_Division\n",
       "Row_1         0      Mudit Chauhan      December    M                3\n",
       "Row_2         1       Seema Chopra       January    F                2\n",
       "Row_3         2         Rani Gupta         March    F                1\n",
       "Row_4         3     Aditya Narayan       October    M                1\n",
       "Row_5         4      Sanjeev Sahni      February    M                2\n",
       "Row_6         5       Prakash Kumar     December    M                3\n",
       "Row_7         6       Ritu Agarwal     September    F                1\n",
       "Row_8         7        Akshay Goel        August    M                1\n",
       "Row_9         8     Meeta Kulkarni          July    F                2\n",
       "Row_10        9       Preeti Ahuja      November    F                2\n",
       "Row_11       10    Sunil Das Gupta         April    M                3\n",
       "Row_12       11       Sonali Sapre       January    F                1\n",
       "Row_13       12      Rashmi Talwar          June    F                3"
      ]
     },
     "execution_count": 14,
     "metadata": {},
     "output_type": "execute_result"
    }
   ],
   "source": [
    "print(\"Data for visualization:\")\n",
    "df1"
   ]
  },
  {
   "cell_type": "markdown",
   "metadata": {},
   "source": [
    "c) Plot bar chart to show the frequency of each class label in the data."
   ]
  },
  {
   "cell_type": "code",
   "execution_count": 15,
   "metadata": {},
   "outputs": [
    {
     "data": {
      "image/png": "[encoded data removed]",
      "text/plain": [
       "<Figure size 640x480 with 4 Axes>"
      ]
     },
     "metadata": {},
     "output_type": "display_data"
    }
   ],
   "source": [
    "import matplotlib.pyplot as plt\n",
    "bar_1data = df1['Name'].value_counts()\n",
    "bar_2data = df1['Birth_Month'].value_counts()\n",
    "bar_3data = df1['Gender'].value_counts()\n",
    "bar_4data = df1['Pass_Division'].value_counts()\n",
    "\n",
    "\n",
    "plt.subplot(2, 2, 1)\n",
    "plt.bar(list(bar_1data.index), bar_1data)\n",
    "\n",
    "plt.subplot(2, 2, 2)\n",
    "plt.bar(list(bar_2data.index), bar_2data)\n",
    "\n",
    "plt.subplot(2, 2, 3)\n",
    "plt.bar(list(bar_3data.index), bar_3data)\n",
    "\n",
    "plt.subplot(2, 2, 4)\n",
    "plt.bar(list(bar_4data.index), bar_4data)\n",
    "\n",
    "plt.show()"
   ]
  },
  {
   "cell_type": "markdown",
   "metadata": {},
   "source": [
    "d) Draw a Pie chart for Pass_division."
   ]
  },
  {
   "cell_type": "code",
   "execution_count": 16,
   "metadata": {},
   "outputs": [
    {
     "data": {
      "image/png": "[encoded data removed]",
      "text/plain": [
       "<Figure size 640x480 with 1 Axes>"
      ]
     },
     "metadata": {},
     "output_type": "display_data"
    }
   ],
   "source": [
    "plt.pie(bar_4data, labels=bar_4data.index, autopct=lambda x: '{:.0f}'.format(x*bar_4data.sum()/100))\n",
    "plt.title(\"Pass Division\")\n",
    "plt.show()"
   ]
  },
  {
   "cell_type": "markdown",
   "metadata": {},
   "source": [
    "e) Plot density distribution for Birth_Month."
   ]
  },
  {
   "cell_type": "code",
   "execution_count": 17,
   "metadata": {},
   "outputs": [
    {
     "data": {
      "image/png": "[encoded data removed]",
      "text/plain": [
       "<Figure size 640x480 with 1 Axes>"
      ]
     },
     "metadata": {},
     "output_type": "display_data"
    }
   ],
   "source": [
    "density_data =  df1['Birth_Month']\n",
    "\n",
    "plt.hist(density_data)\n",
    "plt.title(\"Birth Month\")\n",
    "\n",
    "plt.show()"
   ]
  }
 ],
 "metadata": {
  "kernelspec": {
   "display_name": "Python 3",
   "language": "python",
   "name": "python3"
  },
  "language_info": {
   "codemirror_mode": {
    "name": "ipython",
    "version": 3
   },
   "file_extension": ".py",
   "mimetype": "text/x-python",
   "name": "python",
   "nbconvert_exporter": "python",
   "pygments_lexer": "ipython3",
   "version": "3.10.6"
  },
  "orig_nbformat": 4
 },
 "nbformat": 4,
 "nbformat_minor": 2
}
