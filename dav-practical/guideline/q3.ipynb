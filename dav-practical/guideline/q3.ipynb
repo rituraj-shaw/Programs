{
 "cells": [
  {
   "cell_type": "code",
   "execution_count": 28,
   "metadata": {},
   "outputs": [
    {
     "name": "stdout",
     "output_type": "stream",
     "text": [
      "     0   1   2\n",
      "0   35  38  96\n",
      "1   79  55  42\n",
      "2   48  62  10\n",
      "3   27  91  25\n",
      "4   17  76   8\n",
      "5   84  33  50\n",
      "6   75  19   5\n",
      "7   79  33  51\n",
      "8   98  52  76\n",
      "9   98  36   6\n",
      "10  29  92  94\n",
      "11   5  41  46\n",
      "12  24  31  98\n",
      "13  55  53  29\n",
      "14  13  39  73\n",
      "15  91  42  18\n",
      "16  31  51  20\n",
      "17  15  19  81\n",
      "18   2  77  22\n",
      "19  98  62  26\n",
      "20  30  49  46\n",
      "21  31  50  36\n",
      "22   4   8  10\n",
      "23  28  42  44\n",
      "24   4  88  31\n",
      "25  77  73   4\n",
      "26  94  20  58\n",
      "27  45  78  81\n",
      "28  85  44   3\n",
      "29  24  67  31\n",
      "30   7  55  36\n",
      "31  38  48  98\n",
      "32  63  89  89\n",
      "33  54  82  94\n",
      "34  20   1  68\n",
      "35  44  83  22\n",
      "36   9  93  44\n",
      "37  55  57  28\n",
      "38  90  70  99\n",
      "39  46  77  24\n",
      "40  22  16   0\n",
      "41  71  32  27\n",
      "42  69  15   8\n",
      "43  70  34  62\n",
      "44  14  31  14\n",
      "45  76  18  48\n",
      "46  74  82  11\n",
      "47  61   3  30\n",
      "48  41  93  72\n",
      "49   6  11  14\n"
     ]
    }
   ],
   "source": [
    "import pandas as pd\n",
    "import numpy as np\n",
    "\n",
    "row = 50\n",
    "cols = 3\n",
    "\n",
    "Random = np.random.randint(low=0, high=100, size=(row, cols))\n",
    "\n",
    "df = pd.DataFrame(Random)\n",
    "\n",
    "print(df)"
   ]
  },
  {
   "cell_type": "code",
   "execution_count": 29,
   "metadata": {},
   "outputs": [
    {
     "name": "stdout",
     "output_type": "stream",
     "text": [
      "Final\n",
      "        0     1     2\n",
      "0   35.0  38.0  96.0\n",
      "1   79.0  55.0  42.0\n",
      "2    NaN  62.0  10.0\n",
      "3   27.0  91.0  25.0\n",
      "4   17.0  76.0   8.0\n",
      "5   84.0  33.0  50.0\n",
      "6   75.0  19.0   5.0\n",
      "7   79.0  33.0  51.0\n",
      "8   98.0  52.0  76.0\n",
      "9   98.0  36.0   6.0\n",
      "10  29.0  92.0  94.0\n",
      "11   5.0  41.0  46.0\n",
      "12  24.0  31.0  98.0\n",
      "13   NaN  53.0  29.0\n",
      "14  13.0  39.0  73.0\n",
      "15  91.0  42.0  18.0\n",
      "16  31.0  51.0  20.0\n",
      "17  15.0  19.0  81.0\n",
      "18   2.0  77.0  22.0\n",
      "19  98.0  62.0   NaN\n",
      "20  30.0  49.0  46.0\n",
      "21   NaN  50.0  36.0\n",
      "22   4.0   8.0  10.0\n",
      "23  28.0   NaN  44.0\n",
      "24   NaN  88.0  31.0\n",
      "25   NaN  73.0   NaN\n",
      "26  94.0  20.0  58.0\n",
      "27  45.0  78.0  81.0\n",
      "28  85.0  44.0   3.0\n",
      "29  24.0  67.0  31.0\n",
      "30   7.0   NaN  36.0\n",
      "31  38.0  48.0  98.0\n",
      "32   NaN  89.0  89.0\n",
      "33  54.0  82.0  94.0\n",
      "34   NaN   1.0  68.0\n",
      "35  44.0  83.0  22.0\n",
      "36   9.0  93.0   NaN\n",
      "37  55.0  57.0  28.0\n",
      "38  90.0  70.0  99.0\n",
      "39  46.0  77.0  24.0\n",
      "40  22.0  16.0   NaN\n",
      "41  71.0  32.0  27.0\n",
      "42  69.0  15.0   8.0\n",
      "43  70.0  34.0  62.0\n",
      "44  14.0  31.0  14.0\n",
      "45   NaN  18.0  48.0\n",
      "46  74.0  82.0  11.0\n",
      "47  61.0   3.0  30.0\n",
      "48  41.0  93.0  72.0\n",
      "49   6.0  11.0   NaN\n"
     ]
    }
   ],
   "source": [
    "while(True):\n",
    "    if(df.isnull().sum().sum()==15):\n",
    "        break\n",
    "    a = np.random.randint(low=0, high=row)\n",
    "    b = np.random.randint(low=0, high=cols)\n",
    "    if(df.iloc[a,b] == np.NaN):\n",
    "        continue\n",
    "    else:\n",
    "        df.iloc[a,b] = np.NaN\n",
    "\n",
    "print(\"Final\\n\",df)"
   ]
  },
  {
   "cell_type": "markdown",
   "metadata": {},
   "source": [
    "Identify and count missing values in a dataframe."
   ]
  },
  {
   "cell_type": "code",
   "execution_count": 30,
   "metadata": {},
   "outputs": [
    {
     "name": "stdout",
     "output_type": "stream",
     "text": [
      "15\n"
     ]
    }
   ],
   "source": [
    "count = df.isnull().sum().sum()\n",
    "print(count)"
   ]
  },
  {
   "cell_type": "markdown",
   "metadata": {},
   "source": [
    "Drop the column having more than 5 null values."
   ]
  },
  {
   "cell_type": "code",
   "execution_count": 31,
   "metadata": {},
   "outputs": [],
   "source": [
    "if((df[0].isna().sum()) > 5):\n",
    "    df.drop(columns=[0], inplace = True)"
   ]
  },
  {
   "cell_type": "code",
   "execution_count": 32,
   "metadata": {},
   "outputs": [],
   "source": [
    "if((df[1].isnull().sum()) > 5):\n",
    "    df.drop(columns=[1], inplace = True)"
   ]
  },
  {
   "cell_type": "code",
   "execution_count": 33,
   "metadata": {},
   "outputs": [],
   "source": [
    "if((df[2].isna().sum()) > 5):\n",
    "    df.drop(columns=[2], inplace = True)"
   ]
  },
  {
   "cell_type": "code",
   "execution_count": 34,
   "metadata": {},
   "outputs": [
    {
     "name": "stdout",
     "output_type": "stream",
     "text": [
      "       1     2\n",
      "0   38.0  96.0\n",
      "1   55.0  42.0\n",
      "2   62.0  10.0\n",
      "3   91.0  25.0\n",
      "4   76.0   8.0\n",
      "5   33.0  50.0\n",
      "6   19.0   5.0\n",
      "7   33.0  51.0\n",
      "8   52.0  76.0\n",
      "9   36.0   6.0\n",
      "10  92.0  94.0\n",
      "11  41.0  46.0\n",
      "12  31.0  98.0\n",
      "13  53.0  29.0\n",
      "14  39.0  73.0\n",
      "15  42.0  18.0\n",
      "16  51.0  20.0\n",
      "17  19.0  81.0\n",
      "18  77.0  22.0\n",
      "19  62.0   NaN\n",
      "20  49.0  46.0\n",
      "21  50.0  36.0\n",
      "22   8.0  10.0\n",
      "23   NaN  44.0\n",
      "24  88.0  31.0\n",
      "25  73.0   NaN\n",
      "26  20.0  58.0\n",
      "27  78.0  81.0\n",
      "28  44.0   3.0\n",
      "29  67.0  31.0\n",
      "30   NaN  36.0\n",
      "31  48.0  98.0\n",
      "32  89.0  89.0\n",
      "33  82.0  94.0\n",
      "34   1.0  68.0\n",
      "35  83.0  22.0\n",
      "36  93.0   NaN\n",
      "37  57.0  28.0\n",
      "38  70.0  99.0\n",
      "39  77.0  24.0\n",
      "40  16.0   NaN\n",
      "41  32.0  27.0\n",
      "42  15.0   8.0\n",
      "43  34.0  62.0\n",
      "44  31.0  14.0\n",
      "45  18.0  48.0\n",
      "46  82.0  11.0\n",
      "47   3.0  30.0\n",
      "48  93.0  72.0\n",
      "49  11.0   NaN\n"
     ]
    }
   ],
   "source": [
    "print(df)"
   ]
  },
  {
   "cell_type": "markdown",
   "metadata": {},
   "source": [
    "Identify the row label having maximum of the sum of all values in a row and drop that row."
   ]
  },
  {
   "cell_type": "code",
   "execution_count": 35,
   "metadata": {},
   "outputs": [
    {
     "name": "stdout",
     "output_type": "stream",
     "text": [
      "       1     2\n",
      "0   38.0  96.0\n",
      "1   55.0  42.0\n",
      "2   62.0  10.0\n",
      "3   91.0  25.0\n",
      "4   76.0   8.0\n",
      "5   33.0  50.0\n",
      "6   19.0   5.0\n",
      "7   33.0  51.0\n",
      "8   52.0  76.0\n",
      "9   36.0   6.0\n",
      "11  41.0  46.0\n",
      "12  31.0  98.0\n",
      "13  53.0  29.0\n",
      "14  39.0  73.0\n",
      "15  42.0  18.0\n",
      "16  51.0  20.0\n",
      "17  19.0  81.0\n",
      "18  77.0  22.0\n",
      "19  62.0   NaN\n",
      "20  49.0  46.0\n",
      "21  50.0  36.0\n",
      "22   8.0  10.0\n",
      "23   NaN  44.0\n",
      "24  88.0  31.0\n",
      "25  73.0   NaN\n",
      "26  20.0  58.0\n",
      "27  78.0  81.0\n",
      "28  44.0   3.0\n",
      "29  67.0  31.0\n",
      "30   NaN  36.0\n",
      "31  48.0  98.0\n",
      "32  89.0  89.0\n",
      "33  82.0  94.0\n",
      "34   1.0  68.0\n",
      "35  83.0  22.0\n",
      "36  93.0   NaN\n",
      "37  57.0  28.0\n",
      "38  70.0  99.0\n",
      "39  77.0  24.0\n",
      "40  16.0   NaN\n",
      "41  32.0  27.0\n",
      "42  15.0   8.0\n",
      "43  34.0  62.0\n",
      "44  31.0  14.0\n",
      "45  18.0  48.0\n",
      "46  82.0  11.0\n",
      "47   3.0  30.0\n",
      "48  93.0  72.0\n",
      "49  11.0   NaN\n"
     ]
    }
   ],
   "source": [
    "max_sum_row_label = df.sum(axis=1).idxmax()\n",
    "df.drop(index=max_sum_row_label, inplace=True)\n",
    "print(df)"
   ]
  },
  {
   "cell_type": "markdown",
   "metadata": {},
   "source": [
    "Sort data frame on the basis of the first column."
   ]
  },
  {
   "cell_type": "code",
   "execution_count": 36,
   "metadata": {},
   "outputs": [
    {
     "ename": "KeyError",
     "evalue": "0",
     "output_type": "error",
     "traceback": [
      "\u001b[1;31m---------------------------------------------------------------------------\u001b[0m",
      "\u001b[1;31mKeyError\u001b[0m                                  Traceback (most recent call last)",
      "\u001b[1;32m~\\AppData\\Local\\Temp\\ipykernel_7928\\1914666980.py\u001b[0m in \u001b[0;36m?\u001b[1;34m()\u001b[0m\n\u001b[1;32m----> 1\u001b[1;33m \u001b[0msort\u001b[0m \u001b[1;33m=\u001b[0m \u001b[0mdf\u001b[0m\u001b[1;33m.\u001b[0m\u001b[0msort_values\u001b[0m\u001b[1;33m(\u001b[0m\u001b[0mby\u001b[0m\u001b[1;33m=\u001b[0m\u001b[1;36m0\u001b[0m\u001b[1;33m,\u001b[0m \u001b[0minplace\u001b[0m\u001b[1;33m=\u001b[0m\u001b[1;32mTrue\u001b[0m\u001b[1;33m)\u001b[0m\u001b[1;33m\u001b[0m\u001b[1;33m\u001b[0m\u001b[0m\n\u001b[0m\u001b[0;32m      2\u001b[0m \u001b[0mprint\u001b[0m\u001b[1;33m(\u001b[0m\u001b[0mdf\u001b[0m\u001b[1;33m)\u001b[0m\u001b[1;33m\u001b[0m\u001b[1;33m\u001b[0m\u001b[0m\n",
      "\u001b[1;32mc:\\Users\\DELL\\AppData\\Local\\Programs\\Python\\Python310\\lib\\site-packages\\pandas\\core\\frame.py\u001b[0m in \u001b[0;36m?\u001b[1;34m(self, by, axis, ascending, inplace, kind, na_position, ignore_index, key)\u001b[0m\n\u001b[0;32m   6754\u001b[0m         \u001b[1;32melif\u001b[0m \u001b[0mlen\u001b[0m\u001b[1;33m(\u001b[0m\u001b[0mby\u001b[0m\u001b[1;33m)\u001b[0m\u001b[1;33m:\u001b[0m\u001b[1;33m\u001b[0m\u001b[1;33m\u001b[0m\u001b[0m\n\u001b[0;32m   6755\u001b[0m             \u001b[1;31m# len(by) == 1\u001b[0m\u001b[1;33m\u001b[0m\u001b[1;33m\u001b[0m\u001b[0m\n\u001b[0;32m   6756\u001b[0m \u001b[1;33m\u001b[0m\u001b[0m\n\u001b[0;32m   6757\u001b[0m             \u001b[0mby\u001b[0m \u001b[1;33m=\u001b[0m \u001b[0mby\u001b[0m\u001b[1;33m[\u001b[0m\u001b[1;36m0\u001b[0m\u001b[1;33m]\u001b[0m\u001b[1;33m\u001b[0m\u001b[1;33m\u001b[0m\u001b[0m\n\u001b[1;32m-> 6758\u001b[1;33m             \u001b[0mk\u001b[0m \u001b[1;33m=\u001b[0m \u001b[0mself\u001b[0m\u001b[1;33m.\u001b[0m\u001b[0m_get_label_or_level_values\u001b[0m\u001b[1;33m(\u001b[0m\u001b[0mby\u001b[0m\u001b[1;33m,\u001b[0m \u001b[0maxis\u001b[0m\u001b[1;33m=\u001b[0m\u001b[0maxis\u001b[0m\u001b[1;33m)\u001b[0m\u001b[1;33m\u001b[0m\u001b[1;33m\u001b[0m\u001b[0m\n\u001b[0m\u001b[0;32m   6759\u001b[0m \u001b[1;33m\u001b[0m\u001b[0m\n\u001b[0;32m   6760\u001b[0m             \u001b[1;31m# need to rewrap column in Series to apply key function\u001b[0m\u001b[1;33m\u001b[0m\u001b[1;33m\u001b[0m\u001b[0m\n\u001b[0;32m   6761\u001b[0m             \u001b[1;32mif\u001b[0m \u001b[0mkey\u001b[0m \u001b[1;32mis\u001b[0m \u001b[1;32mnot\u001b[0m \u001b[1;32mNone\u001b[0m\u001b[1;33m:\u001b[0m\u001b[1;33m\u001b[0m\u001b[1;33m\u001b[0m\u001b[0m\n",
      "\u001b[1;32mc:\\Users\\DELL\\AppData\\Local\\Programs\\Python\\Python310\\lib\\site-packages\\pandas\\core\\generic.py\u001b[0m in \u001b[0;36m?\u001b[1;34m(self, key, axis)\u001b[0m\n\u001b[0;32m   1774\u001b[0m             \u001b[0mvalues\u001b[0m \u001b[1;33m=\u001b[0m \u001b[0mself\u001b[0m\u001b[1;33m.\u001b[0m\u001b[0mxs\u001b[0m\u001b[1;33m(\u001b[0m\u001b[0mkey\u001b[0m\u001b[1;33m,\u001b[0m \u001b[0maxis\u001b[0m\u001b[1;33m=\u001b[0m\u001b[0mother_axes\u001b[0m\u001b[1;33m[\u001b[0m\u001b[1;36m0\u001b[0m\u001b[1;33m]\u001b[0m\u001b[1;33m)\u001b[0m\u001b[1;33m.\u001b[0m\u001b[0m_values\u001b[0m\u001b[1;33m\u001b[0m\u001b[1;33m\u001b[0m\u001b[0m\n\u001b[0;32m   1775\u001b[0m         \u001b[1;32melif\u001b[0m \u001b[0mself\u001b[0m\u001b[1;33m.\u001b[0m\u001b[0m_is_level_reference\u001b[0m\u001b[1;33m(\u001b[0m\u001b[0mkey\u001b[0m\u001b[1;33m,\u001b[0m \u001b[0maxis\u001b[0m\u001b[1;33m=\u001b[0m\u001b[0maxis\u001b[0m\u001b[1;33m)\u001b[0m\u001b[1;33m:\u001b[0m\u001b[1;33m\u001b[0m\u001b[1;33m\u001b[0m\u001b[0m\n\u001b[0;32m   1776\u001b[0m             \u001b[0mvalues\u001b[0m \u001b[1;33m=\u001b[0m \u001b[0mself\u001b[0m\u001b[1;33m.\u001b[0m\u001b[0maxes\u001b[0m\u001b[1;33m[\u001b[0m\u001b[0maxis\u001b[0m\u001b[1;33m]\u001b[0m\u001b[1;33m.\u001b[0m\u001b[0mget_level_values\u001b[0m\u001b[1;33m(\u001b[0m\u001b[0mkey\u001b[0m\u001b[1;33m)\u001b[0m\u001b[1;33m.\u001b[0m\u001b[0m_values\u001b[0m\u001b[1;33m\u001b[0m\u001b[1;33m\u001b[0m\u001b[0m\n\u001b[0;32m   1777\u001b[0m         \u001b[1;32melse\u001b[0m\u001b[1;33m:\u001b[0m\u001b[1;33m\u001b[0m\u001b[1;33m\u001b[0m\u001b[0m\n\u001b[1;32m-> 1778\u001b[1;33m             \u001b[1;32mraise\u001b[0m \u001b[0mKeyError\u001b[0m\u001b[1;33m(\u001b[0m\u001b[0mkey\u001b[0m\u001b[1;33m)\u001b[0m\u001b[1;33m\u001b[0m\u001b[1;33m\u001b[0m\u001b[0m\n\u001b[0m\u001b[0;32m   1779\u001b[0m \u001b[1;33m\u001b[0m\u001b[0m\n\u001b[0;32m   1780\u001b[0m         \u001b[1;31m# Check for duplicates\u001b[0m\u001b[1;33m\u001b[0m\u001b[1;33m\u001b[0m\u001b[0m\n\u001b[0;32m   1781\u001b[0m         \u001b[1;32mif\u001b[0m \u001b[0mvalues\u001b[0m\u001b[1;33m.\u001b[0m\u001b[0mndim\u001b[0m \u001b[1;33m>\u001b[0m \u001b[1;36m1\u001b[0m\u001b[1;33m:\u001b[0m\u001b[1;33m\u001b[0m\u001b[1;33m\u001b[0m\u001b[0m\n",
      "\u001b[1;31mKeyError\u001b[0m: 0"
     ]
    }
   ],
   "source": [
    "sort = df.sort_values(by=0, inplace=True)\n",
    "print(df)"
   ]
  },
  {
   "cell_type": "markdown",
   "metadata": {},
   "source": [
    "Remove all duplicates from the first column."
   ]
  },
  {
   "cell_type": "code",
   "execution_count": 37,
   "metadata": {},
   "outputs": [
    {
     "ename": "KeyError",
     "evalue": "Index([0], dtype='int64')",
     "output_type": "error",
     "traceback": [
      "\u001b[1;31m---------------------------------------------------------------------------\u001b[0m",
      "\u001b[1;31mKeyError\u001b[0m                                  Traceback (most recent call last)",
      "\u001b[1;32m~\\AppData\\Local\\Temp\\ipykernel_7928\\2549858673.py\u001b[0m in \u001b[0;36m?\u001b[1;34m()\u001b[0m\n\u001b[1;32m----> 1\u001b[1;33m \u001b[0mdf\u001b[0m \u001b[1;33m=\u001b[0m \u001b[0mdf\u001b[0m\u001b[1;33m.\u001b[0m\u001b[0mdrop_duplicates\u001b[0m\u001b[1;33m(\u001b[0m\u001b[1;36m0\u001b[0m\u001b[1;33m)\u001b[0m\u001b[1;33m\u001b[0m\u001b[1;33m\u001b[0m\u001b[0m\n\u001b[0m\u001b[0;32m      2\u001b[0m \u001b[0mprint\u001b[0m\u001b[1;33m(\u001b[0m\u001b[0mdf\u001b[0m\u001b[1;33m)\u001b[0m\u001b[1;33m\u001b[0m\u001b[1;33m\u001b[0m\u001b[0m\n",
      "\u001b[1;32mc:\\Users\\DELL\\AppData\\Local\\Programs\\Python\\Python310\\lib\\site-packages\\pandas\\core\\frame.py\u001b[0m in \u001b[0;36m?\u001b[1;34m(self, subset, keep, inplace, ignore_index)\u001b[0m\n\u001b[0;32m   6518\u001b[0m \u001b[1;33m\u001b[0m\u001b[0m\n\u001b[0;32m   6519\u001b[0m         \u001b[0minplace\u001b[0m \u001b[1;33m=\u001b[0m \u001b[0mvalidate_bool_kwarg\u001b[0m\u001b[1;33m(\u001b[0m\u001b[0minplace\u001b[0m\u001b[1;33m,\u001b[0m \u001b[1;34m\"inplace\"\u001b[0m\u001b[1;33m)\u001b[0m\u001b[1;33m\u001b[0m\u001b[1;33m\u001b[0m\u001b[0m\n\u001b[0;32m   6520\u001b[0m         \u001b[0mignore_index\u001b[0m \u001b[1;33m=\u001b[0m \u001b[0mvalidate_bool_kwarg\u001b[0m\u001b[1;33m(\u001b[0m\u001b[0mignore_index\u001b[0m\u001b[1;33m,\u001b[0m \u001b[1;34m\"ignore_index\"\u001b[0m\u001b[1;33m)\u001b[0m\u001b[1;33m\u001b[0m\u001b[1;33m\u001b[0m\u001b[0m\n\u001b[0;32m   6521\u001b[0m \u001b[1;33m\u001b[0m\u001b[0m\n\u001b[1;32m-> 6522\u001b[1;33m         \u001b[0mresult\u001b[0m \u001b[1;33m=\u001b[0m \u001b[0mself\u001b[0m\u001b[1;33m[\u001b[0m\u001b[1;33m-\u001b[0m\u001b[0mself\u001b[0m\u001b[1;33m.\u001b[0m\u001b[0mduplicated\u001b[0m\u001b[1;33m(\u001b[0m\u001b[0msubset\u001b[0m\u001b[1;33m,\u001b[0m \u001b[0mkeep\u001b[0m\u001b[1;33m=\u001b[0m\u001b[0mkeep\u001b[0m\u001b[1;33m)\u001b[0m\u001b[1;33m]\u001b[0m\u001b[1;33m\u001b[0m\u001b[1;33m\u001b[0m\u001b[0m\n\u001b[0m\u001b[0;32m   6523\u001b[0m         \u001b[1;32mif\u001b[0m \u001b[0mignore_index\u001b[0m\u001b[1;33m:\u001b[0m\u001b[1;33m\u001b[0m\u001b[1;33m\u001b[0m\u001b[0m\n\u001b[0;32m   6524\u001b[0m             \u001b[0mresult\u001b[0m\u001b[1;33m.\u001b[0m\u001b[0mindex\u001b[0m \u001b[1;33m=\u001b[0m \u001b[0mdefault_index\u001b[0m\u001b[1;33m(\u001b[0m\u001b[0mlen\u001b[0m\u001b[1;33m(\u001b[0m\u001b[0mresult\u001b[0m\u001b[1;33m)\u001b[0m\u001b[1;33m)\u001b[0m\u001b[1;33m\u001b[0m\u001b[1;33m\u001b[0m\u001b[0m\n\u001b[0;32m   6525\u001b[0m \u001b[1;33m\u001b[0m\u001b[0m\n",
      "\u001b[1;32mc:\\Users\\DELL\\AppData\\Local\\Programs\\Python\\Python310\\lib\\site-packages\\pandas\\core\\frame.py\u001b[0m in \u001b[0;36m?\u001b[1;34m(self, subset, keep)\u001b[0m\n\u001b[0;32m   6650\u001b[0m         \u001b[1;31m# Otherwise, raise a KeyError, same as if you try to __getitem__ with a\u001b[0m\u001b[1;33m\u001b[0m\u001b[1;33m\u001b[0m\u001b[0m\n\u001b[0;32m   6651\u001b[0m         \u001b[1;31m# key that doesn't exist.\u001b[0m\u001b[1;33m\u001b[0m\u001b[1;33m\u001b[0m\u001b[0m\n\u001b[0;32m   6652\u001b[0m         \u001b[0mdiff\u001b[0m \u001b[1;33m=\u001b[0m \u001b[0mset\u001b[0m\u001b[1;33m(\u001b[0m\u001b[0msubset\u001b[0m\u001b[1;33m)\u001b[0m \u001b[1;33m-\u001b[0m \u001b[0mset\u001b[0m\u001b[1;33m(\u001b[0m\u001b[0mself\u001b[0m\u001b[1;33m.\u001b[0m\u001b[0mcolumns\u001b[0m\u001b[1;33m)\u001b[0m\u001b[1;33m\u001b[0m\u001b[1;33m\u001b[0m\u001b[0m\n\u001b[0;32m   6653\u001b[0m         \u001b[1;32mif\u001b[0m \u001b[0mdiff\u001b[0m\u001b[1;33m:\u001b[0m\u001b[1;33m\u001b[0m\u001b[1;33m\u001b[0m\u001b[0m\n\u001b[1;32m-> 6654\u001b[1;33m             \u001b[1;32mraise\u001b[0m \u001b[0mKeyError\u001b[0m\u001b[1;33m(\u001b[0m\u001b[0mIndex\u001b[0m\u001b[1;33m(\u001b[0m\u001b[0mdiff\u001b[0m\u001b[1;33m)\u001b[0m\u001b[1;33m)\u001b[0m\u001b[1;33m\u001b[0m\u001b[1;33m\u001b[0m\u001b[0m\n\u001b[0m\u001b[0;32m   6655\u001b[0m \u001b[1;33m\u001b[0m\u001b[0m\n\u001b[0;32m   6656\u001b[0m         \u001b[1;32mif\u001b[0m \u001b[0mlen\u001b[0m\u001b[1;33m(\u001b[0m\u001b[0msubset\u001b[0m\u001b[1;33m)\u001b[0m \u001b[1;33m==\u001b[0m \u001b[1;36m1\u001b[0m \u001b[1;32mand\u001b[0m \u001b[0mself\u001b[0m\u001b[1;33m.\u001b[0m\u001b[0mcolumns\u001b[0m\u001b[1;33m.\u001b[0m\u001b[0mis_unique\u001b[0m\u001b[1;33m:\u001b[0m\u001b[1;33m\u001b[0m\u001b[1;33m\u001b[0m\u001b[0m\n\u001b[0;32m   6657\u001b[0m             \u001b[1;31m# GH#45236 This is faster than get_group_index below\u001b[0m\u001b[1;33m\u001b[0m\u001b[1;33m\u001b[0m\u001b[0m\n",
      "\u001b[1;31mKeyError\u001b[0m: Index([0], dtype='int64')"
     ]
    }
   ],
   "source": [
    "df = df.drop_duplicates(0)\n",
    "print(df)"
   ]
  },
  {
   "cell_type": "markdown",
   "metadata": {},
   "source": [
    "Find the correlation between first and second column and covariance between second and third column."
   ]
  },
  {
   "cell_type": "code",
   "execution_count": 38,
   "metadata": {},
   "outputs": [
    {
     "ename": "KeyError",
     "evalue": "0",
     "output_type": "error",
     "traceback": [
      "\u001b[1;31m---------------------------------------------------------------------------\u001b[0m",
      "\u001b[1;31mValueError\u001b[0m                                Traceback (most recent call last)",
      "File \u001b[1;32mc:\\Users\\DELL\\AppData\\Local\\Programs\\Python\\Python310\\lib\\site-packages\\pandas\\core\\indexes\\range.py:345\u001b[0m, in \u001b[0;36mRangeIndex.get_loc\u001b[1;34m(self, key)\u001b[0m\n\u001b[0;32m    344\u001b[0m \u001b[39mtry\u001b[39;00m:\n\u001b[1;32m--> 345\u001b[0m     \u001b[39mreturn\u001b[39;00m \u001b[39mself\u001b[39;49m\u001b[39m.\u001b[39;49m_range\u001b[39m.\u001b[39;49mindex(new_key)\n\u001b[0;32m    346\u001b[0m \u001b[39mexcept\u001b[39;00m \u001b[39mValueError\u001b[39;00m \u001b[39mas\u001b[39;00m err:\n",
      "\u001b[1;31mValueError\u001b[0m: 0 is not in range",
      "\nThe above exception was the direct cause of the following exception:\n",
      "\u001b[1;31mKeyError\u001b[0m                                  Traceback (most recent call last)",
      "\u001b[1;32mc:\\Users\\DELL\\Desktop\\DAV\\Practical Q3.ipynb Cell 17\u001b[0m line \u001b[0;36m1\n\u001b[1;32m----> <a href='vscode-notebook-cell:/c%3A/Users/DELL/Desktop/DAV/Practical%20Q3.ipynb#X22sZmlsZQ%3D%3D?line=0'>1</a>\u001b[0m \u001b[39mprint\u001b[39m(df[\u001b[39m0\u001b[39;49m]\u001b[39m.\u001b[39mcorr(df[\u001b[39m1\u001b[39m]))\n",
      "File \u001b[1;32mc:\\Users\\DELL\\AppData\\Local\\Programs\\Python\\Python310\\lib\\site-packages\\pandas\\core\\frame.py:3761\u001b[0m, in \u001b[0;36mDataFrame.__getitem__\u001b[1;34m(self, key)\u001b[0m\n\u001b[0;32m   3759\u001b[0m \u001b[39mif\u001b[39;00m \u001b[39mself\u001b[39m\u001b[39m.\u001b[39mcolumns\u001b[39m.\u001b[39mnlevels \u001b[39m>\u001b[39m \u001b[39m1\u001b[39m:\n\u001b[0;32m   3760\u001b[0m     \u001b[39mreturn\u001b[39;00m \u001b[39mself\u001b[39m\u001b[39m.\u001b[39m_getitem_multilevel(key)\n\u001b[1;32m-> 3761\u001b[0m indexer \u001b[39m=\u001b[39m \u001b[39mself\u001b[39;49m\u001b[39m.\u001b[39;49mcolumns\u001b[39m.\u001b[39;49mget_loc(key)\n\u001b[0;32m   3762\u001b[0m \u001b[39mif\u001b[39;00m is_integer(indexer):\n\u001b[0;32m   3763\u001b[0m     indexer \u001b[39m=\u001b[39m [indexer]\n",
      "File \u001b[1;32mc:\\Users\\DELL\\AppData\\Local\\Programs\\Python\\Python310\\lib\\site-packages\\pandas\\core\\indexes\\range.py:347\u001b[0m, in \u001b[0;36mRangeIndex.get_loc\u001b[1;34m(self, key)\u001b[0m\n\u001b[0;32m    345\u001b[0m         \u001b[39mreturn\u001b[39;00m \u001b[39mself\u001b[39m\u001b[39m.\u001b[39m_range\u001b[39m.\u001b[39mindex(new_key)\n\u001b[0;32m    346\u001b[0m     \u001b[39mexcept\u001b[39;00m \u001b[39mValueError\u001b[39;00m \u001b[39mas\u001b[39;00m err:\n\u001b[1;32m--> 347\u001b[0m         \u001b[39mraise\u001b[39;00m \u001b[39mKeyError\u001b[39;00m(key) \u001b[39mfrom\u001b[39;00m \u001b[39merr\u001b[39;00m\n\u001b[0;32m    348\u001b[0m \u001b[39mif\u001b[39;00m \u001b[39misinstance\u001b[39m(key, Hashable):\n\u001b[0;32m    349\u001b[0m     \u001b[39mraise\u001b[39;00m \u001b[39mKeyError\u001b[39;00m(key)\n",
      "\u001b[1;31mKeyError\u001b[0m: 0"
     ]
    }
   ],
   "source": [
    "print(df[0].corr(df[1]))"
   ]
  },
  {
   "cell_type": "code",
   "execution_count": 39,
   "metadata": {},
   "outputs": [
    {
     "name": "stdout",
     "output_type": "stream",
     "text": [
      "42.742160278745665\n"
     ]
    }
   ],
   "source": [
    "print(df[1].cov(df[2]))"
   ]
  },
  {
   "cell_type": "markdown",
   "metadata": {},
   "source": [
    "Detect the outliers and remove the rows having outliers."
   ]
  },
  {
   "cell_type": "code",
   "execution_count": 40,
   "metadata": {},
   "outputs": [
    {
     "name": "stdout",
     "output_type": "stream",
     "text": [
      "       1     2\n",
      "0   38.0  96.0\n",
      "1   55.0  42.0\n",
      "2   62.0  10.0\n",
      "3   91.0  25.0\n",
      "4   76.0   8.0\n",
      "5   33.0  50.0\n",
      "6   19.0   5.0\n",
      "7   33.0  51.0\n",
      "8   52.0  76.0\n",
      "9   36.0   6.0\n",
      "11  41.0  46.0\n",
      "12  31.0  98.0\n",
      "13  53.0  29.0\n",
      "14  39.0  73.0\n",
      "15  42.0  18.0\n",
      "16  51.0  20.0\n",
      "17  19.0  81.0\n",
      "18  77.0  22.0\n",
      "19  62.0   NaN\n",
      "20  49.0  46.0\n",
      "21  50.0  36.0\n",
      "22   8.0  10.0\n",
      "24  88.0  31.0\n",
      "25  73.0   NaN\n",
      "26  20.0  58.0\n",
      "27  78.0  81.0\n",
      "28  44.0   3.0\n",
      "29  67.0  31.0\n",
      "31  48.0  98.0\n",
      "32  89.0  89.0\n",
      "33  82.0  94.0\n",
      "34   1.0  68.0\n",
      "35  83.0  22.0\n",
      "36  93.0   NaN\n",
      "37  57.0  28.0\n",
      "38  70.0  99.0\n",
      "39  77.0  24.0\n",
      "40  16.0   NaN\n",
      "41  32.0  27.0\n",
      "42  15.0   8.0\n",
      "43  34.0  62.0\n",
      "44  31.0  14.0\n",
      "45  18.0  48.0\n",
      "46  82.0  11.0\n",
      "47   3.0  30.0\n",
      "48  93.0  72.0\n",
      "49  11.0   NaN\n"
     ]
    }
   ],
   "source": [
    "mean = df[1].mean()\n",
    "std = df[1].std()\n",
    "lower_limit = mean - 2 * std\n",
    "upper_limit = mean + 2 * std\n",
    "df = df[(df[1] >= lower_limit) & (df[1] <= upper_limit)]\n",
    "print(df)"
   ]
  },
  {
   "cell_type": "markdown",
   "metadata": {},
   "source": [
    "Discretize second column and create 5 bins."
   ]
  },
  {
   "cell_type": "code",
   "execution_count": 43,
   "metadata": {},
   "outputs": [
    {
     "data": {
      "text/plain": [
       "0     B\n",
       "1     C\n",
       "2     D\n",
       "3     E\n",
       "4     D\n",
       "5     B\n",
       "6     A\n",
       "7     B\n",
       "8     C\n",
       "9     B\n",
       "11    C\n",
       "12    B\n",
       "13    C\n",
       "14    B\n",
       "15    C\n",
       "16    C\n",
       "17    A\n",
       "18    D\n",
       "19    D\n",
       "20    C\n",
       "21    C\n",
       "22    A\n",
       "24    E\n",
       "25    D\n",
       "26    A\n",
       "27    D\n",
       "28    C\n",
       "29    D\n",
       "31    C\n",
       "32    E\n",
       "33    E\n",
       "34    A\n",
       "35    E\n",
       "36    E\n",
       "37    C\n",
       "38    D\n",
       "39    D\n",
       "40    A\n",
       "41    B\n",
       "42    A\n",
       "43    B\n",
       "44    B\n",
       "45    A\n",
       "46    E\n",
       "47    A\n",
       "48    E\n",
       "49    A\n",
       "Name: 1, dtype: category\n",
       "Categories (5, object): ['A' < 'B' < 'C' < 'D' < 'E']"
      ]
     },
     "execution_count": 43,
     "metadata": {},
     "output_type": "execute_result"
    }
   ],
   "source": [
    "# df[3] = pd.cut(df[1], bins=5)\n",
    "# print(df)\n",
    "pd.cut(df[1],bins=[0,20,40,60,80,100],labels = [\"A\",\"B\",\"C\",\"D\",\"E\"])"
   ]
  }
 ],
 "metadata": {
  "kernelspec": {
   "display_name": "Python 3",
   "language": "python",
   "name": "python3"
  },
  "language_info": {
   "codemirror_mode": {
    "name": "ipython",
    "version": 3
   },
   "file_extension": ".py",
   "mimetype": "text/x-python",
   "name": "python",
   "nbconvert_exporter": "python",
   "pygments_lexer": "ipython3",
   "version": "3.10.6"
  },
  "orig_nbformat": 4
 },
 "nbformat": 4,
 "nbformat_minor": 2
}
