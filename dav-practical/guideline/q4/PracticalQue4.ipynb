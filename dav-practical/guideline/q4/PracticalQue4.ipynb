{
 "cells": [
  {
   "cell_type": "code",
   "execution_count": 9,
   "metadata": {},
   "outputs": [
    {
     "name": "stdout",
     "output_type": "stream",
     "text": [
      "    Name Time of joining  Duration\n",
      "0   Ishu        01:00:00        30\n",
      "1  Mandy        01:05:00        40\n",
      "2  Panda        01:00:00        50\n",
      "      Name Time of joining  Duration\n",
      "0     Ishu        01:00:00        40\n",
      "1    Mandy        01:05:00        40\n",
      "2    Panda        01:00:00        50\n",
      "3    Perri        01:02:00        30\n",
      "4    Porgi        01:15:00        30\n",
      "5  Vaibhav        01:07:00        40\n"
     ]
    }
   ],
   "source": [
    "import pandas as pd\n",
    "df1 = pd.read_excel(\"data1.xlsx\")\n",
    "print(df1)\n",
    "df2 = pd.read_excel(\"data2.xlsx\")\n",
    "print(df2)"
   ]
  },
  {
   "cell_type": "code",
   "execution_count": 10,
   "metadata": {},
   "outputs": [
    {
     "name": "stdout",
     "output_type": "stream",
     "text": [
      "    Name Time of joining  Duration\n",
      "0  Mandy        01:05:00        40\n",
      "1  Panda        01:00:00        50\n"
     ]
    }
   ],
   "source": [
    "df_merge = df1.merge(df2)\n",
    "print(df_merge)"
   ]
  },
  {
   "cell_type": "code",
   "execution_count": 11,
   "metadata": {},
   "outputs": [
    {
     "name": "stdout",
     "output_type": "stream",
     "text": [
      "      Name Time of joining  Duration\n",
      "0     Ishu        01:00:00        30\n",
      "1    Mandy        01:05:00        40\n",
      "2    Panda        01:00:00        50\n",
      "0     Ishu        01:00:00        40\n",
      "1    Mandy        01:05:00        40\n",
      "2    Panda        01:00:00        50\n",
      "3    Perri        01:02:00        30\n",
      "4    Porgi        01:15:00        30\n",
      "5  Vaibhav        01:07:00        40\n"
     ]
    }
   ],
   "source": [
    "frames = [df1, df2]\n",
    "result = pd.concat(frames)\n",
    "print(result)"
   ]
  },
  {
   "cell_type": "code",
   "execution_count": 12,
   "metadata": {},
   "outputs": [
    {
     "name": "stdout",
     "output_type": "stream",
     "text": [
      "      Name Time of joining  Duration\n",
      "0     Ishu        01:00:00        30\n",
      "0     Ishu        01:00:00        40\n",
      "3    Perri        01:02:00        30\n",
      "4    Porgi        01:15:00        30\n",
      "5  Vaibhav        01:07:00        40\n"
     ]
    }
   ],
   "source": [
    "print(result.drop_duplicates(keep=False))"
   ]
  },
  {
   "cell_type": "code",
   "execution_count": 13,
   "metadata": {},
   "outputs": [
    {
     "name": "stdout",
     "output_type": "stream",
     "text": [
      "    Name Time of joining  Duration     Name Time of joining  Duration\n",
      "0   Ishu        01:00:00      30.0     Ishu        01:00:00        40\n",
      "1  Mandy        01:05:00      40.0    Mandy        01:05:00        40\n",
      "2  Panda        01:00:00      50.0    Panda        01:00:00        50\n",
      "3    NaN             NaN       NaN    Perri        01:02:00        30\n",
      "4    NaN             NaN       NaN    Porgi        01:15:00        30\n",
      "5    NaN             NaN       NaN  Vaibhav        01:07:00        40\n"
     ]
    }
   ],
   "source": [
    "df = pd.concat([df1, df2], axis=1)\n",
    "print(df)"
   ]
  },
  {
   "cell_type": "code",
   "execution_count": 14,
   "metadata": {},
   "outputs": [
    {
     "name": "stdout",
     "output_type": "stream",
     "text": [
      "\n",
      "Descriptive statistics for the multi-index dataframe:\n",
      "               Time of joining_x                       Time of joining_y  \\\n",
      "                           count unique       top freq             count   \n",
      "Name  Duration                                                             \n",
      "Mandy 40                       1      1  01:05:00    1                 1   \n",
      "Panda 50                       1      1  01:00:00    1                 1   \n",
      "\n",
      "                                      \n",
      "               unique       top freq  \n",
      "Name  Duration                        \n",
      "Mandy 40            1  01:05:00    1  \n",
      "Panda 50            1  01:00:00    1  \n"
     ]
    }
   ],
   "source": [
    "multi_index_df = pd.merge(df1, df2, on=[\"Name\", \"Duration\"])\n",
    "print(\"\\nDescriptive statistics for the multi-index dataframe:\")\n",
    "print(multi_index_df.groupby([\"Name\", \"Duration\"]).describe())"
   ]
  }
 ],
 "metadata": {
  "kernelspec": {
   "display_name": "Python 3",
   "language": "python",
   "name": "python3"
  },
  "language_info": {
   "codemirror_mode": {
    "name": "ipython",
    "version": 3
   },
   "file_extension": ".py",
   "mimetype": "text/x-python",
   "name": "python",
   "nbconvert_exporter": "python",
   "pygments_lexer": "ipython3",
   "version": "3.10.6"
  },
  "orig_nbformat": 4
 },
 "nbformat": 4,
 "nbformat_minor": 2
}
